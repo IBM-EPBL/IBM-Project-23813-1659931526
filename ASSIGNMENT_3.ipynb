{
 "cells": [
  {
   "cell_type": "code",
   "execution_count": 1,
   "id": "fe3df357",
   "metadata": {},
   "outputs": [],
   "source": [
    "from tensorflow.keras.preprocessing.image import ImageDataGenerator"
   ]
  },
  {
   "cell_type": "code",
   "execution_count": 2,
   "id": "e9799c5f",
   "metadata": {},
   "outputs": [],
   "source": [
    "train_datagen = ImageDataGenerator(rescale=1./255, zoom_range=0.2, horizontal_flip=True)"
   ]
  },
  {
   "cell_type": "code",
   "execution_count": 3,
   "id": "426eab04",
   "metadata": {},
   "outputs": [],
   "source": [
    "test_datagen = ImageDataGenerator(rescale=1./255)"
   ]
  },
  {
   "cell_type": "code",
   "execution_count": 4,
   "id": "77f4df35",
   "metadata": {},
   "outputs": [
    {
     "name": "stdout",
     "output_type": "stream",
     "text": [
      "Found 4317 images belonging to 5 classes.\n"
     ]
    }
   ],
   "source": [
    "xtrain = train_datagen.flow_from_directory(r'C:\\Users\\kaviy\\OneDrive\\Desktop\\Flowers-Dataset\\flowers', target_size=(64, 64), class_mode='categorical',batch_size=100)"
   ]
  },
  {
   "cell_type": "code",
   "execution_count": 5,
   "id": "22cbcc57",
   "metadata": {},
   "outputs": [
    {
     "name": "stdout",
     "output_type": "stream",
     "text": [
      "Found 4317 images belonging to 5 classes.\n"
     ]
    }
   ],
   "source": [
    "xtest = test_datagen.flow_from_directory(r'C:\\Users\\kaviy\\OneDrive\\Desktop\\Flowers-Dataset\\flowers', target_size=(64, 64), class_mode='categorical', batch_size=100)"
   ]
  },
  {
   "cell_type": "code",
   "execution_count": 6,
   "id": "ec93eb6a",
   "metadata": {},
   "outputs": [],
   "source": [
    "from tensorflow.keras.models import Sequential\n",
    "from tensorflow.keras.layers import Convolution2D,MaxPooling2D,Flatten,Dense"
   ]
  },
  {
   "cell_type": "code",
   "execution_count": 7,
   "id": "5a42ca80",
   "metadata": {},
   "outputs": [],
   "source": [
    "model = Sequential()\n",
    "model.add(Convolution2D(32,(3,3),activation='relu',input_shape=(64,64,3))) \n",
    "model.add(MaxPooling2D(pool_size=(2,2)))\n",
    "model.add(Flatten())\n",
    "model.add(Dense(700,activation='relu'))\n",
    "model.add(Dense(550,activation='relu'))\n",
    "model.add(Dense(5,activation='softmax'))"
   ]
  },
  {
   "cell_type": "code",
   "execution_count": 8,
   "id": "8eaac9e3",
   "metadata": {},
   "outputs": [],
   "source": [
    "model.compile(optimizer='adam', loss='categorical_crossentropy', metrics=['accuracy'])"
   ]
  },
  {
   "cell_type": "code",
   "execution_count": 9,
   "id": "f3a5a852",
   "metadata": {},
   "outputs": [
    {
     "name": "stderr",
     "output_type": "stream",
     "text": [
      "C:\\Users\\kaviy\\AppData\\Local\\Temp\\ipykernel_18612\\2338346036.py:1: UserWarning: `Model.fit_generator` is deprecated and will be removed in a future version. Please use `Model.fit`, which supports generators.\n",
      "  model.fit_generator(xtrain,\n"
     ]
    },
    {
     "name": "stdout",
     "output_type": "stream",
     "text": [
      "Epoch 1/10\n",
      "44/44 [==============================] - 54s 1s/step - loss: 1.8100 - accuracy: 0.3792 - val_loss: 1.1857 - val_accuracy: 0.4758\n",
      "Epoch 2/10\n",
      "44/44 [==============================] - 46s 1s/step - loss: 1.0741 - accuracy: 0.5761 - val_loss: 1.2064 - val_accuracy: 0.5210\n",
      "Epoch 3/10\n",
      "44/44 [==============================] - 47s 1s/step - loss: 0.9984 - accuracy: 0.6115 - val_loss: 1.0046 - val_accuracy: 0.6220\n",
      "Epoch 4/10\n",
      "44/44 [==============================] - 47s 1s/step - loss: 0.9122 - accuracy: 0.6423 - val_loss: 0.8545 - val_accuracy: 0.6820\n",
      "Epoch 5/10\n",
      "44/44 [==============================] - 46s 1s/step - loss: 0.8615 - accuracy: 0.6674 - val_loss: 0.7700 - val_accuracy: 0.7109\n",
      "Epoch 6/10\n",
      "44/44 [==============================] - 46s 1s/step - loss: 0.8008 - accuracy: 0.6961 - val_loss: 0.7275 - val_accuracy: 0.7287\n",
      "Epoch 7/10\n",
      "44/44 [==============================] - 46s 1s/step - loss: 0.7666 - accuracy: 0.7037 - val_loss: 0.7087 - val_accuracy: 0.7345\n",
      "Epoch 8/10\n",
      "44/44 [==============================] - 46s 1s/step - loss: 0.7279 - accuracy: 0.7216 - val_loss: 0.6189 - val_accuracy: 0.7737\n",
      "Epoch 9/10\n",
      "44/44 [==============================] - 47s 1s/step - loss: 0.6856 - accuracy: 0.7466 - val_loss: 0.6752 - val_accuracy: 0.7357\n",
      "Epoch 10/10\n",
      "44/44 [==============================] - 48s 1s/step - loss: 0.6637 - accuracy: 0.7554 - val_loss: 0.7189 - val_accuracy: 0.7318\n"
     ]
    },
    {
     "data": {
      "text/plain": [
       "<keras.callbacks.History at 0x1e5642d45b0>"
      ]
     },
     "execution_count": 9,
     "metadata": {},
     "output_type": "execute_result"
    }
   ],
   "source": [
    "model.fit_generator(xtrain,\n",
    "                    steps_per_epoch=len(xtrain),\n",
    "                    epochs=10,\n",
    "                    validation_data=xtest,\n",
    "                    validation_steps=len(xtest))"
   ]
  },
  {
   "cell_type": "code",
   "execution_count": 10,
   "id": "1fe9a5be",
   "metadata": {},
   "outputs": [],
   "source": [
    "model.save('Flower.h5')"
   ]
  },
  {
   "cell_type": "code",
   "execution_count": 11,
   "id": "ea867b47",
   "metadata": {},
   "outputs": [],
   "source": [
    "import numpy as np\n",
    "from tensorflow.keras.preprocessing import image"
   ]
  },
  {
   "cell_type": "code",
   "execution_count": 12,
   "id": "567f6b09",
   "metadata": {},
   "outputs": [],
   "source": [
    "img = image.load_img(r'C:\\Users\\kaviy\\OneDrive\\Desktop\\Flowers-Dataset\\flowers\\rose\\1562198683_8cd8cb5876_n.jpg',\n",
    "                    target_size=(64,64))"
   ]
  },
  {
   "cell_type": "code",
   "execution_count": 13,
   "id": "772bacb9",
   "metadata": {},
   "outputs": [
    {
     "data": {
      "image/png": "[encoded data removed]",
      "text/plain": [
       "<PIL.Image.Image image mode=RGB size=64x64>"
      ]
     },
     "execution_count": 13,
     "metadata": {},
     "output_type": "execute_result"
    }
   ],
   "source": [
    "img"
   ]
  },
  {
   "cell_type": "code",
   "execution_count": 14,
   "id": "6e85c17e",
   "metadata": {},
   "outputs": [
    {
     "data": {
      "text/plain": [
       "array([[[ 48.,  68.,  31.],\n",
       "        [ 48.,  68.,  31.],\n",
       "        [ 48.,  68.,  31.],\n",
       "        ...,\n",
       "        [ 23.,  35.,  15.],\n",
       "        [ 23.,  36.,  16.],\n",
       "        [ 21.,  34.,  16.]],\n",
       "\n",
       "       [[ 48.,  68.,  31.],\n",
       "        [ 48.,  68.,  31.],\n",
       "        [ 49.,  69.,  32.],\n",
       "        ...,\n",
       "        [ 22.,  34.,  14.],\n",
       "        [ 22.,  35.,  15.],\n",
       "        [ 21.,  34.,  16.]],\n",
       "\n",
       "       [[ 49.,  69.,  32.],\n",
       "        [ 49.,  69.,  32.],\n",
       "        [ 49.,  69.,  32.],\n",
       "        ...,\n",
       "        [ 24.,  36.,  16.],\n",
       "        [ 22.,  35.,  17.],\n",
       "        [ 21.,  34.,  16.]],\n",
       "\n",
       "       ...,\n",
       "\n",
       "       [[ 44.,  55.,  23.],\n",
       "        [ 48.,  58.,  24.],\n",
       "        [ 50.,  60.,  25.],\n",
       "        ...,\n",
       "        [206.,  27.,  66.],\n",
       "        [203.,  25.,  61.],\n",
       "        [198.,  23.,  52.]],\n",
       "\n",
       "       [[ 43.,  52.,  23.],\n",
       "        [ 47.,  56.,  25.],\n",
       "        [ 48.,  60.,  24.],\n",
       "        ...,\n",
       "        [217.,  41.,  80.],\n",
       "        [201.,  34.,  78.],\n",
       "        [204.,  34.,  70.]],\n",
       "\n",
       "       [[ 43.,  52.,  23.],\n",
       "        [ 46.,  55.,  24.],\n",
       "        [ 50.,  57.,  23.],\n",
       "        ...,\n",
       "        [194.,  21.,  51.],\n",
       "        [184.,  22.,  59.],\n",
       "        [187.,  26.,  60.]]], dtype=float32)"
      ]
     },
     "execution_count": 14,
     "metadata": {},
     "output_type": "execute_result"
    }
   ],
   "source": [
    "x = image.img_to_array(img)\n",
    "x"
   ]
  },
  {
   "cell_type": "code",
   "execution_count": 15,
   "id": "3b6bc497",
   "metadata": {},
   "outputs": [
    {
     "data": {
      "text/plain": [
       "array([[[[ 48.,  68.,  31.],\n",
       "         [ 48.,  68.,  31.],\n",
       "         [ 48.,  68.,  31.],\n",
       "         ...,\n",
       "         [ 23.,  35.,  15.],\n",
       "         [ 23.,  36.,  16.],\n",
       "         [ 21.,  34.,  16.]],\n",
       "\n",
       "        [[ 48.,  68.,  31.],\n",
       "         [ 48.,  68.,  31.],\n",
       "         [ 49.,  69.,  32.],\n",
       "         ...,\n",
       "         [ 22.,  34.,  14.],\n",
       "         [ 22.,  35.,  15.],\n",
       "         [ 21.,  34.,  16.]],\n",
       "\n",
       "        [[ 49.,  69.,  32.],\n",
       "         [ 49.,  69.,  32.],\n",
       "         [ 49.,  69.,  32.],\n",
       "         ...,\n",
       "         [ 24.,  36.,  16.],\n",
       "         [ 22.,  35.,  17.],\n",
       "         [ 21.,  34.,  16.]],\n",
       "\n",
       "        ...,\n",
       "\n",
       "        [[ 44.,  55.,  23.],\n",
       "         [ 48.,  58.,  24.],\n",
       "         [ 50.,  60.,  25.],\n",
       "         ...,\n",
       "         [206.,  27.,  66.],\n",
       "         [203.,  25.,  61.],\n",
       "         [198.,  23.,  52.]],\n",
       "\n",
       "        [[ 43.,  52.,  23.],\n",
       "         [ 47.,  56.,  25.],\n",
       "         [ 48.,  60.,  24.],\n",
       "         ...,\n",
       "         [217.,  41.,  80.],\n",
       "         [201.,  34.,  78.],\n",
       "         [204.,  34.,  70.]],\n",
       "\n",
       "        [[ 43.,  52.,  23.],\n",
       "         [ 46.,  55.,  24.],\n",
       "         [ 50.,  57.,  23.],\n",
       "         ...,\n",
       "         [194.,  21.,  51.],\n",
       "         [184.,  22.,  59.],\n",
       "         [187.,  26.,  60.]]]], dtype=float32)"
      ]
     },
     "execution_count": 15,
     "metadata": {},
     "output_type": "execute_result"
    }
   ],
   "source": [
    "x = np.expand_dims(x, axis=0)\n",
    "x"
   ]
  },
  {
   "cell_type": "code",
   "execution_count": 16,
   "id": "9d98b1a5",
   "metadata": {},
   "outputs": [
    {
     "name": "stdout",
     "output_type": "stream",
     "text": [
      "1/1 [==============================] - 0s 147ms/step\n"
     ]
    },
    {
     "data": {
      "text/plain": [
       "array([[0., 0., 1., 0., 0.]], dtype=float32)"
      ]
     },
     "execution_count": 16,
     "metadata": {},
     "output_type": "execute_result"
    }
   ],
   "source": [
    "model.predict(x)"
   ]
  },
  {
   "cell_type": "code",
   "execution_count": 17,
   "id": "6ae47bfc",
   "metadata": {},
   "outputs": [
    {
     "data": {
      "text/plain": [
       "{'daisy': 0, 'dandelion': 1, 'rose': 2, 'sunflower': 3, 'tulip': 4}"
      ]
     },
     "execution_count": 17,
     "metadata": {},
     "output_type": "execute_result"
    }
   ],
   "source": [
    "xtrain.class_indices"
   ]
  },
  {
   "cell_type": "code",
   "execution_count": 18,
   "id": "acc64b4c",
   "metadata": {},
   "outputs": [
    {
     "name": "stdout",
     "output_type": "stream",
     "text": [
      "1/1 [==============================] - 0s 32ms/step\n"
     ]
    },
    {
     "data": {
      "text/plain": [
       "'rose'"
      ]
     },
     "execution_count": 18,
     "metadata": {},
     "output_type": "execute_result"
    }
   ],
   "source": [
    "op = ['daisy', 'dandelion', 'rose', 'sunflower', 'tulip']\n",
    "pred = np.argmax(model.predict(x))\n",
    "op[pred]"
   ]
  }
 ],
 "metadata": {
  "kernelspec": {
   "display_name": "Python 3 (ipykernel)",
   "language": "python",
   "name": "python3"
  },
  "language_info": {
   "codemirror_mode": {
    "name": "ipython",
    "version": 3
   },
   "file_extension": ".py",
   "mimetype": "text/x-python",
   "name": "python",
   "nbconvert_exporter": "python",
   "pygments_lexer": "ipython3",
   "version": "3.9.13"
  }
 },
 "nbformat": 4,
 "nbformat_minor": 5
}
